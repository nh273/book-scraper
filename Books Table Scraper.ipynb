{
 "cells": [
  {
   "cell_type": "code",
   "execution_count": 1,
   "metadata": {
    "collapsed": true
   },
   "outputs": [],
   "source": [
    "\"\"\"Scraper for table of books at: https://ppdvn.gov.vn/web/guest/ke-hoach-xuat-ban?query=&id_nxb=-1&bat_dau=&ket_thuc=\"\"\"\n",
    "from bs4 import BeautifulSoup\n",
    "import requests\n",
    "import pandas as pd\n",
    "import csv\n",
    "import random\n",
    "from time import sleep\n",
    "import datetime"
   ]
  },
  {
   "cell_type": "code",
   "execution_count": 9,
   "metadata": {
    "collapsed": true
   },
   "outputs": [],
   "source": [
    "csv_file = \"C:\\\\Users\\\\Phong Nguyen\\\\OneDrive - Cornell University\\\\LOK\\\\VNDIRECT\\\\Book\\\\publishing_data_2.csv\""
   ]
  },
  {
   "cell_type": "code",
   "execution_count": 10,
   "metadata": {
    "collapsed": true
   },
   "outputs": [],
   "source": [
    "def scrape_table(text_data):\n",
    "    \"\"\"Scrape xml table row by row\"\"\"\n",
    "    bs = BeautifulSoup(text_data, \"lxml\") #BeautifulSoup makes reading web data much easier\n",
    "    table_body=bs.find('tbody')\n",
    "    rows = table_body.find_all('tr')\n",
    "    res_list = []\n",
    "    for row in rows:\n",
    "        cols=row.find_all('td')\n",
    "        cols=[x.text.strip() for x in cols]\n",
    "        res_list.append(cols)\n",
    "    return res_list\n"
   ]
  },
  {
   "cell_type": "code",
   "execution_count": 17,
   "metadata": {},
   "outputs": [],
   "source": [
    "def scrape_page(page_no):\n",
    "    \"\"\"Scrape a page\"\"\"\n",
    "            #sleep(random.uniform(0,0.5)) #sleep for 0-0.5 sec randomly --> not annoy ppdvn's server too much\n",
    "        url = \"https://ppdvn.gov.vn/web/guest/ke-hoach-xuat-ban?id_nxb=-1&p=\" + str(page_no) #go page by page\n",
    "        r = requests.get(url)\n",
    "        page_list = scrape_table(r.text)\n",
    "        with open(csv_file, \"a\", encoding='utf-8') as output:\n",
    "            writer = csv.writer(output, lineterminator='\\n')\n",
    "            writer.writerows(page_list)\n",
    "        print(str(datetime.datetime.now()) + \": page \" + str(page_no))\n"
   ]
  },
  {
   "cell_type": "code",
   "execution_count": null,
   "metadata": {},
   "outputs": [
    {
     "name": "stdout",
     "output_type": "stream",
     "text": [
      "2018-04-17 23:18:15.739827: page 3570\n",
      "2018-04-17 23:18:18.001826: page 3571\n",
      "2018-04-17 23:18:20.457512: page 3572\n",
      "2018-04-17 23:18:22.999914: page 3573\n",
      "2018-04-17 23:18:25.499410: page 3574\n",
      "2018-04-17 23:18:28.387363: page 3575\n",
      "2018-04-17 23:18:30.746023: page 3576\n",
      "2018-04-17 23:18:33.072744: page 3577\n",
      "2018-04-17 23:18:35.440826: page 3578\n",
      "2018-04-17 23:18:37.895422: page 3579\n",
      "2018-04-17 23:18:40.344867: page 3580\n",
      "2018-04-17 23:18:42.806695: page 3581\n",
      "2018-04-17 23:18:45.302796: page 3582\n",
      "2018-04-17 23:18:47.658512: page 3583\n",
      "2018-04-17 23:18:50.071501: page 3584\n",
      "2018-04-17 23:18:52.837574: page 3585\n",
      "2018-04-17 23:18:55.111332: page 3586\n",
      "2018-04-17 23:18:57.662593: page 3587\n",
      "2018-04-17 23:19:00.097400: page 3588\n",
      "2018-04-17 23:19:02.478053: page 3589\n",
      "2018-04-17 23:19:05.054839: page 3590\n",
      "2018-04-17 23:19:07.691912: page 3591\n",
      "2018-04-17 23:19:10.043014: page 3592\n",
      "2018-04-17 23:19:12.403882: page 3593\n",
      "2018-04-17 23:19:14.738782: page 3594\n",
      "2018-04-17 23:19:17.003409: page 3595\n",
      "2018-04-17 23:19:19.159045: page 3596\n",
      "2018-04-17 23:19:22.051633: page 3597\n",
      "2018-04-17 23:19:24.379416: page 3598\n",
      "2018-04-17 23:19:26.737124: page 3599\n",
      "2018-04-17 23:19:29.091468: page 3600\n",
      "2018-04-17 23:19:31.545979: page 3601\n",
      "2018-04-17 23:19:33.913479: page 3602\n",
      "2018-04-17 23:19:36.290882: page 3603\n",
      "2018-04-17 23:19:38.504357: page 3604\n",
      "2018-04-17 23:19:40.768254: page 3605\n",
      "2018-04-17 23:19:43.013181: page 3606\n",
      "2018-04-17 23:19:45.375814: page 3607\n",
      "2018-04-17 23:19:48.005807: page 3608\n",
      "2018-04-17 23:19:50.387796: page 3609\n",
      "2018-04-17 23:19:52.870575: page 3610\n",
      "2018-04-17 23:19:55.148024: page 3611\n",
      "2018-04-17 23:19:57.725660: page 3612\n",
      "2018-04-17 23:20:00.082048: page 3613\n",
      "2018-04-17 23:20:02.507130: page 3614\n",
      "2018-04-17 23:20:04.846875: page 3615\n",
      "2018-04-17 23:20:07.116122: page 3616\n",
      "2018-04-17 23:20:09.460345: page 3617\n",
      "2018-04-17 23:20:11.719986: page 3618\n",
      "2018-04-17 23:20:13.969482: page 3619\n",
      "2018-04-17 23:20:16.415809: page 3620\n",
      "2018-04-17 23:20:18.683618: page 3621\n",
      "2018-04-17 23:20:21.136205: page 3622\n",
      "2018-04-17 23:20:23.229108: page 3623\n",
      "2018-04-17 23:20:25.655074: page 3624\n",
      "2018-04-17 23:20:28.522612: page 3625\n",
      "2018-04-17 23:20:30.992566: page 3626\n",
      "2018-04-17 23:20:33.439004: page 3627\n",
      "2018-04-17 23:20:35.992730: page 3628\n",
      "2018-04-17 23:20:38.341996: page 3629\n",
      "2018-04-17 23:20:40.768926: page 3630\n",
      "2018-04-17 23:20:43.429125: page 3631\n",
      "2018-04-17 23:20:46.001035: page 3632\n",
      "2018-04-17 23:20:48.653525: page 3633\n",
      "2018-04-17 23:20:50.907527: page 3634\n",
      "2018-04-17 23:20:53.322135: page 3635\n",
      "2018-04-17 23:20:55.616900: page 3636\n",
      "2018-04-17 23:20:57.849452: page 3637\n",
      "2018-04-17 23:21:00.066977: page 3638\n",
      "2018-04-17 23:21:02.582065: page 3639\n",
      "2018-04-17 23:21:05.144133: page 3640\n",
      "2018-04-17 23:21:07.785759: page 3641\n",
      "2018-04-17 23:21:10.258813: page 3642\n",
      "2018-04-17 23:21:12.705211: page 3643\n",
      "2018-04-17 23:21:15.211883: page 3644\n",
      "2018-04-17 23:21:17.529208: page 3645\n",
      "2018-04-17 23:21:19.674197: page 3646\n",
      "2018-04-17 23:21:22.049220: page 3647\n",
      "2018-04-17 23:21:24.399323: page 3648\n",
      "2018-04-17 23:21:26.861383: page 3649\n",
      "2018-04-17 23:21:29.214059: page 3650\n",
      "2018-04-17 23:21:31.840526: page 3651\n",
      "2018-04-17 23:21:34.182705: page 3652\n",
      "2018-04-17 23:21:36.696523: page 3653\n",
      "2018-04-17 23:21:39.143769: page 3654\n",
      "2018-04-17 23:21:41.607303: page 3655\n",
      "2018-04-17 23:21:44.001290: page 3656\n",
      "2018-04-17 23:21:46.797986: page 3657\n",
      "2018-04-17 23:21:49.358381: page 3658\n",
      "2018-04-17 23:21:51.628802: page 3659\n",
      "2018-04-17 23:21:53.837687: page 3660\n",
      "2018-04-17 23:21:56.315727: page 3661\n",
      "2018-04-17 23:21:58.594256: page 3662\n",
      "2018-04-17 23:22:00.948404: page 3663\n",
      "2018-04-17 23:22:03.515141: page 3664\n",
      "2018-04-17 23:22:06.182186: page 3665\n",
      "2018-04-17 23:22:08.547967: page 3666\n",
      "2018-04-17 23:22:11.056475: page 3667\n",
      "2018-04-17 23:22:13.552267: page 3668\n",
      "2018-04-17 23:22:16.102160: page 3669\n",
      "2018-04-17 23:22:18.404098: page 3670\n",
      "2018-04-17 23:22:20.973740: page 3671\n",
      "2018-04-17 23:22:23.393109: page 3672\n",
      "2018-04-17 23:22:25.774121: page 3673\n",
      "2018-04-17 23:22:28.218069: page 3674\n",
      "2018-04-17 23:22:30.918132: page 3675\n",
      "2018-04-17 23:22:33.269410: page 3676\n",
      "2018-04-17 23:22:35.805223: page 3677\n",
      "2018-04-17 23:22:38.129632: page 3678\n",
      "2018-04-17 23:22:40.621360: page 3679\n",
      "2018-04-17 23:22:43.054137: page 3680\n",
      "2018-04-17 23:22:45.478794: page 3681\n",
      "2018-04-17 23:22:48.182827: page 3682\n",
      "2018-04-17 23:22:50.593190: page 3683\n",
      "2018-04-17 23:22:52.866225: page 3684\n",
      "2018-04-17 23:22:55.473105: page 3685\n",
      "2018-04-17 23:22:57.678274: page 3686\n",
      "2018-04-17 23:23:01.859256: page 3687\n",
      "2018-04-17 23:23:04.243242: page 3688\n"
     ]
    }
   ],
   "source": [
    "START = 3570\n",
    "i = START\n",
    "while i < 11750:\n",
    "    try:\n",
    "        scrape_page(i)\n",
    "        i += 1\n",
    "    except NetworkError:\n",
    "        print(\"Network Error\")\n",
    "        sleep(100)\n",
    "    "
   ]
  },
  {
   "cell_type": "code",
   "execution_count": null,
   "metadata": {
    "collapsed": true
   },
   "outputs": [],
   "source": []
  }
 ],
 "metadata": {
  "kernelspec": {
   "display_name": "Python 3",
   "language": "python",
   "name": "python3"
  },
  "language_info": {
   "codemirror_mode": {
    "name": "ipython",
    "version": 3
   },
   "file_extension": ".py",
   "mimetype": "text/x-python",
   "name": "python",
   "nbconvert_exporter": "python",
   "pygments_lexer": "ipython3",
   "version": "3.6.1"
  }
 },
 "nbformat": 4,
 "nbformat_minor": 2
}
