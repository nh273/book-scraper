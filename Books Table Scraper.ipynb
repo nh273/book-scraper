{
 "cells": [
  {
   "cell_type": "code",
   "execution_count": 1,
   "metadata": {},
   "outputs": [],
   "source": [
    "\"\"\"Scraper for table of books at: https://ppdvn.gov.vn/web/guest/ke-hoach-xuat-ban?query=&id_nxb=-1&bat_dau=&ket_thuc=\"\"\"\n",
    "from bs4 import BeautifulSoup\n",
    "import requests\n",
    "import pandas as pd\n",
    "import csv\n",
    "import random\n",
    "from time import sleep\n",
    "import datetime"
   ]
  },
  {
   "cell_type": "code",
   "execution_count": 2,
   "metadata": {},
   "outputs": [],
   "source": [
    "csv_file = \"C:\\\\Users\\\\Phong Nguyen\\\\OneDrive - Cornell University\\\\LOK\\\\VNDIRECT\\\\Book\\\\publishing_data.csv\""
   ]
  },
  {
   "cell_type": "code",
   "execution_count": null,
   "metadata": {
    "collapsed": true
   },
   "outputs": [],
   "source": [
    "def scrape_table(text_data):\n",
    "    \"\"\"Scrape xml table row by row\"\"\"\n",
    "    bs = BeautifulSoup(text_data, \"lxml\") #BeautifulSoup makes reading web data much easier\n",
    "    table_body=bs.find('tbody')\n",
    "    rows = table_body.find_all('tr')\n",
    "    res_list = []\n",
    "    for row in rows:\n",
    "        cols=row.find_all('td')\n",
    "        cols=[x.text.strip() for x in cols]\n",
    "        res_list.append(cols)\n",
    "    return res_list\n"
   ]
  },
  {
   "cell_type": "code",
   "execution_count": null,
   "metadata": {},
   "outputs": [
    {
     "name": "stdout",
     "output_type": "stream",
     "text": [
      "2018-04-17 13:48:41.699825: page 1\n",
      "2018-04-17 13:48:43.231006: page 2\n",
      "2018-04-17 13:48:45.110317: page 3\n",
      "2018-04-17 13:48:46.601624: page 4\n",
      "2018-04-17 13:48:48.619093: page 5\n",
      "2018-04-17 13:48:50.217465: page 6\n",
      "2018-04-17 13:48:51.900859: page 7\n",
      "2018-04-17 13:48:53.896942: page 8\n",
      "2018-04-17 13:48:55.472728: page 9\n",
      "2018-04-17 13:48:57.384844: page 10\n",
      "2018-04-17 13:48:59.173008: page 11\n",
      "2018-04-17 13:49:00.900908: page 12\n",
      "2018-04-17 13:49:02.805121: page 13\n",
      "2018-04-17 13:49:04.726866: page 14\n"
     ]
    }
   ],
   "source": [
    "master_list = []\n",
    "for i in range(1, 11750):\n",
    "    sleep(random.uniform(0,0.5)) #sleep for 0-0.5 sec randomly --> not annoy ppdvn's server too much\n",
    "    url = \"https://ppdvn.gov.vn/web/guest/ke-hoach-xuat-ban?id_nxb=-1&p=\" + str(i) #go page by page\n",
    "    r = requests.get(url)\n",
    "    page_list = scrape_table(r.text)\n",
    "    with open(csv_file, \"a\", encoding='utf-8') as output:\n",
    "        writer = csv.writer(output, lineterminator='\\n')\n",
    "        writer.writerows(page_list)\n",
    "    master_list += page_list\n",
    "    print(str(datetime.datetime.now()) + \": page \" + str(i))\n",
    "    \n",
    "df=pd.DataFrame(master_list,columns=['STT','ISBN','Title','Author','Translator','No. of Copies','Self-Published?','Partner','Cfm No.'])\n",
    "print(df)\n"
   ]
  },
  {
   "cell_type": "code",
   "execution_count": null,
   "metadata": {
    "collapsed": true
   },
   "outputs": [],
   "source": []
  }
 ],
 "metadata": {
  "kernelspec": {
   "display_name": "Python 3",
   "language": "python",
   "name": "python3"
  },
  "language_info": {
   "codemirror_mode": {
    "name": "ipython",
    "version": 3
   },
   "file_extension": ".py",
   "mimetype": "text/x-python",
   "name": "python",
   "nbconvert_exporter": "python",
   "pygments_lexer": "ipython3",
   "version": "3.6.1"
  }
 },
 "nbformat": 4,
 "nbformat_minor": 2
}
