{
 "cells": [
  {
   "cell_type": "code",
   "execution_count": 1,
   "metadata": {},
   "outputs": [],
   "source": [
    "\"\"\"Scraper for table of books at: https://ppdvn.gov.vn/web/guest/ke-hoach-xuat-ban?query=&id_nxb=-1&bat_dau=&ket_thuc=\"\"\"\n",
    "from bs4 import BeautifulSoup\n",
    "import requests\n",
    "import pandas as pd\n",
    "import csv\n",
    "import random\n",
    "from time import sleep\n",
    "import datetime"
   ]
  },
  {
   "cell_type": "code",
   "execution_count": 2,
   "metadata": {},
   "outputs": [],
   "source": [
    "csv_file = \"C:\\\\Users\\\\Phong Nguyen\\\\OneDrive - Cornell University\\\\LOK\\\\VNDIRECT\\\\Book\\\\publishing_data.csv\""
   ]
  },
  {
   "cell_type": "code",
   "execution_count": 3,
   "metadata": {
    "collapsed": true
   },
   "outputs": [],
   "source": [
    "def scrape_table(text_data):\n",
    "    \"\"\"Scrape xml table row by row\"\"\"\n",
    "    bs = BeautifulSoup(text_data, \"lxml\") #BeautifulSoup makes reading web data much easier\n",
    "    table_body=bs.find('tbody')\n",
    "    rows = table_body.find_all('tr')\n",
    "    res_list = []\n",
    "    for row in rows:\n",
    "        cols=row.find_all('td')\n",
    "        cols=[x.text.strip() for x in cols]\n",
    "        res_list.append(cols)\n",
    "    return res_list\n"
   ]
  },
  {
   "cell_type": "code",
   "execution_count": 6,
   "metadata": {},
   "outputs": [
    {
     "name": "stdout",
     "output_type": "stream",
     "text": [
      "2018-04-17 13:56:47.018175: page 229\n",
      "2018-04-17 13:56:49.026432: page 230\n",
      "2018-04-17 13:56:51.031226: page 231\n",
      "2018-04-17 13:56:53.079389: page 232\n",
      "2018-04-17 13:56:55.207712: page 233\n",
      "2018-04-17 13:56:57.656677: page 234\n",
      "2018-04-17 13:56:59.806113: page 235\n",
      "2018-04-17 13:57:01.834518: page 236\n",
      "2018-04-17 13:57:04.125897: page 237\n",
      "2018-04-17 13:57:06.510591: page 238\n",
      "2018-04-17 13:57:08.729660: page 239\n",
      "2018-04-17 13:57:11.177143: page 240\n",
      "2018-04-17 13:57:13.439509: page 241\n",
      "2018-04-17 13:57:15.791479: page 242\n",
      "2018-04-17 13:57:17.981592: page 243\n",
      "2018-04-17 13:57:20.505637: page 244\n",
      "2018-04-17 13:57:22.611618: page 245\n",
      "2018-04-17 13:57:24.568901: page 246\n",
      "2018-04-17 13:57:26.659452: page 247\n",
      "2018-04-17 13:57:28.815729: page 248\n",
      "2018-04-17 13:57:30.889336: page 249\n",
      "2018-04-17 13:57:33.317166: page 250\n",
      "2018-04-17 13:57:35.313384: page 251\n",
      "2018-04-17 13:57:37.399249: page 252\n",
      "2018-04-17 13:57:39.515286: page 253\n",
      "2018-04-17 13:57:41.515920: page 254\n",
      "2018-04-17 13:57:43.838789: page 255\n",
      "2018-04-17 13:57:46.149821: page 256\n",
      "2018-04-17 13:57:48.217921: page 257\n",
      "2018-04-17 13:57:50.294652: page 258\n",
      "2018-04-17 13:57:52.385282: page 259\n",
      "2018-04-17 13:57:54.498577: page 260\n",
      "2018-04-17 13:57:56.641129: page 261\n",
      "2018-04-17 13:57:58.806722: page 262\n",
      "2018-04-17 13:58:00.955056: page 263\n",
      "2018-04-17 13:58:03.075619: page 264\n",
      "2018-04-17 13:58:05.362455: page 265\n",
      "2018-04-17 13:58:07.870318: page 266\n",
      "2018-04-17 13:58:09.963783: page 267\n",
      "2018-04-17 13:58:11.999863: page 268\n",
      "2018-04-17 13:58:13.906053: page 269\n",
      "2018-04-17 13:58:16.003380: page 270\n",
      "2018-04-17 13:58:18.542531: page 271\n",
      "2018-04-17 13:58:20.739200: page 272\n",
      "2018-04-17 13:58:22.829607: page 273\n",
      "2018-04-17 13:58:24.895982: page 274\n",
      "2018-04-17 13:58:27.023956: page 275\n",
      "2018-04-17 13:58:29.250898: page 276\n",
      "2018-04-17 13:58:31.398224: page 277\n",
      "2018-04-17 13:58:33.991874: page 278\n",
      "2018-04-17 13:58:36.111678: page 279\n",
      "2018-04-17 13:58:38.293543: page 280\n",
      "2018-04-17 13:58:40.529012: page 281\n",
      "2018-04-17 13:58:42.935567: page 282\n",
      "2018-04-17 13:58:45.064456: page 283\n",
      "2018-04-17 13:58:47.152254: page 284\n",
      "2018-04-17 13:58:49.181436: page 285\n",
      "2018-04-17 13:58:51.627210: page 286\n",
      "2018-04-17 13:58:53.764882: page 287\n",
      "2018-04-17 13:58:56.133000: page 288\n",
      "2018-04-17 13:58:58.130273: page 289\n",
      "2018-04-17 13:59:00.386571: page 290\n",
      "2018-04-17 13:59:02.802239: page 291\n",
      "2018-04-17 13:59:05.119510: page 292\n",
      "2018-04-17 13:59:07.263540: page 293\n",
      "2018-04-17 13:59:09.355100: page 294\n",
      "2018-04-17 13:59:11.472236: page 295\n",
      "2018-04-17 13:59:13.946570: page 296\n",
      "2018-04-17 13:59:16.072056: page 297\n",
      "2018-04-17 13:59:18.451937: page 298\n",
      "2018-04-17 13:59:20.737582: page 299\n",
      "2018-04-17 13:59:22.985393: page 300\n",
      "2018-04-17 13:59:25.434905: page 301\n",
      "2018-04-17 13:59:27.572144: page 302\n",
      "2018-04-17 13:59:29.521977: page 303\n",
      "2018-04-17 13:59:31.615413: page 304\n",
      "2018-04-17 13:59:33.744291: page 305\n",
      "2018-04-17 13:59:35.868508: page 306\n",
      "2018-04-17 13:59:38.127376: page 307\n",
      "2018-04-17 13:59:40.154719: page 308\n",
      "2018-04-17 13:59:42.420242: page 309\n",
      "2018-04-17 13:59:44.577325: page 310\n",
      "2018-04-17 13:59:46.784713: page 311\n",
      "2018-04-17 13:59:48.995748: page 312\n",
      "2018-04-17 13:59:50.986968: page 313\n",
      "2018-04-17 13:59:52.974540: page 314\n",
      "2018-04-17 13:59:55.166415: page 315\n",
      "2018-04-17 13:59:57.276978: page 316\n",
      "2018-04-17 14:00:00.958462: page 317\n",
      "2018-04-17 14:00:03.314291: page 318\n",
      "2018-04-17 14:00:05.436103: page 319\n"
     ]
    },
    {
     "ename": "PermissionError",
     "evalue": "[Errno 13] Permission denied: 'C:\\\\Users\\\\Phong Nguyen\\\\OneDrive - Cornell University\\\\LOK\\\\VNDIRECT\\\\Book\\\\publishing_data.csv'",
     "output_type": "error",
     "traceback": [
      "\u001b[1;31m---------------------------------------------------------------------------\u001b[0m",
      "\u001b[1;31mPermissionError\u001b[0m                           Traceback (most recent call last)",
      "\u001b[1;32m<ipython-input-6-533835d09456>\u001b[0m in \u001b[0;36m<module>\u001b[1;34m()\u001b[0m\n\u001b[0;32m      4\u001b[0m     \u001b[0mr\u001b[0m \u001b[1;33m=\u001b[0m \u001b[0mrequests\u001b[0m\u001b[1;33m.\u001b[0m\u001b[0mget\u001b[0m\u001b[1;33m(\u001b[0m\u001b[0murl\u001b[0m\u001b[1;33m)\u001b[0m\u001b[1;33m\u001b[0m\u001b[0m\n\u001b[0;32m      5\u001b[0m     \u001b[0mpage_list\u001b[0m \u001b[1;33m=\u001b[0m \u001b[0mscrape_table\u001b[0m\u001b[1;33m(\u001b[0m\u001b[0mr\u001b[0m\u001b[1;33m.\u001b[0m\u001b[0mtext\u001b[0m\u001b[1;33m)\u001b[0m\u001b[1;33m\u001b[0m\u001b[0m\n\u001b[1;32m----> 6\u001b[1;33m     \u001b[1;32mwith\u001b[0m \u001b[0mopen\u001b[0m\u001b[1;33m(\u001b[0m\u001b[0mcsv_file\u001b[0m\u001b[1;33m,\u001b[0m \u001b[1;34m\"a\"\u001b[0m\u001b[1;33m,\u001b[0m \u001b[0mencoding\u001b[0m\u001b[1;33m=\u001b[0m\u001b[1;34m'utf-8'\u001b[0m\u001b[1;33m)\u001b[0m \u001b[1;32mas\u001b[0m \u001b[0moutput\u001b[0m\u001b[1;33m:\u001b[0m\u001b[1;33m\u001b[0m\u001b[0m\n\u001b[0m\u001b[0;32m      7\u001b[0m         \u001b[0mwriter\u001b[0m \u001b[1;33m=\u001b[0m \u001b[0mcsv\u001b[0m\u001b[1;33m.\u001b[0m\u001b[0mwriter\u001b[0m\u001b[1;33m(\u001b[0m\u001b[0moutput\u001b[0m\u001b[1;33m,\u001b[0m \u001b[0mlineterminator\u001b[0m\u001b[1;33m=\u001b[0m\u001b[1;34m'\\n'\u001b[0m\u001b[1;33m)\u001b[0m\u001b[1;33m\u001b[0m\u001b[0m\n\u001b[0;32m      8\u001b[0m         \u001b[0mwriter\u001b[0m\u001b[1;33m.\u001b[0m\u001b[0mwriterows\u001b[0m\u001b[1;33m(\u001b[0m\u001b[0mpage_list\u001b[0m\u001b[1;33m)\u001b[0m\u001b[1;33m\u001b[0m\u001b[0m\n",
      "\u001b[1;31mPermissionError\u001b[0m: [Errno 13] Permission denied: 'C:\\\\Users\\\\Phong Nguyen\\\\OneDrive - Cornell University\\\\LOK\\\\VNDIRECT\\\\Book\\\\publishing_data.csv'"
     ]
    }
   ],
   "source": [
    "for i in range(229, 11750):\n",
    "    #sleep(random.uniform(0,0.5)) #sleep for 0-0.5 sec randomly --> not annoy ppdvn's server too much\n",
    "    url = \"https://ppdvn.gov.vn/web/guest/ke-hoach-xuat-ban?id_nxb=-1&p=\" + str(i) #go page by page\n",
    "    r = requests.get(url)\n",
    "    page_list = scrape_table(r.text)\n",
    "    with open(csv_file, \"a\", encoding='utf-8') as output:\n",
    "        writer = csv.writer(output, lineterminator='\\n')\n",
    "        writer.writerows(page_list)\n",
    "    print(str(datetime.datetime.now()) + \": page \" + str(i))\n",
    "    \n",
    "df=pd.DataFrame(master_list,columns=['STT','ISBN','Title','Author','Translator','No. of Copies','Self-Published?','Partner','Cfm No.'])\n",
    "print(df)\n"
   ]
  },
  {
   "cell_type": "code",
   "execution_count": null,
   "metadata": {
    "collapsed": true
   },
   "outputs": [],
   "source": []
  }
 ],
 "metadata": {
  "kernelspec": {
   "display_name": "Python 3",
   "language": "python",
   "name": "python3"
  },
  "language_info": {
   "codemirror_mode": {
    "name": "ipython",
    "version": 3
   },
   "file_extension": ".py",
   "mimetype": "text/x-python",
   "name": "python",
   "nbconvert_exporter": "python",
   "pygments_lexer": "ipython3",
   "version": "3.6.1"
  }
 },
 "nbformat": 4,
 "nbformat_minor": 2
}
